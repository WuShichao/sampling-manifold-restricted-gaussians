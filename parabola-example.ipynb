{
 "cells": [
  {
   "cell_type": "code",
   "execution_count": 1,
   "metadata": {
    "collapsed": true
   },
   "outputs": [],
   "source": [
    "# imports\n",
    "\n",
    "import algorithm\n",
    "import numpy as np\n",
    "import matplotlib.pyplot as plt\n",
    "%matplotlib inline"
   ]
  },
  {
   "cell_type": "code",
   "execution_count": 2,
   "metadata": {
    "collapsed": true
   },
   "outputs": [],
   "source": [
    "# set up parabola problem from manuscript\n",
    "\n",
    "def theta(x):\n",
    "    return np.array([x])\n",
    "\n",
    "def alpha(x):\n",
    "    return np.array([x,x**2])\n",
    "\n",
    "def jacobian(x):\n",
    "    return np.array([[1],[2*x]])\n",
    "\n",
    "def hessian(x):\n",
    "    return np.array([[[0]],[[2]]])\n",
    "\n",
    "betastar = np.array([1,2])\n",
    "\n",
    "bounds = np.array([[-3,3]])"
   ]
  },
  {
   "cell_type": "code",
   "execution_count": 3,
   "metadata": {
    "collapsed": true
   },
   "outputs": [],
   "source": [
    "# use provided base chain\n",
    "\n",
    "with open('parabola-base-chain.txt','r') as file:\n",
    "    base = np.loadtxt(file)"
   ]
  },
  {
   "cell_type": "code",
   "execution_count": 4,
   "metadata": {
    "collapsed": true
   },
   "outputs": [],
   "source": [
    "# run algorithm\n",
    "\n",
    "ite = algorithm.iteration(betastar, minisize=500, epsilon=7e-2, bounds=bounds)\n",
    "\n",
    "for i in range(base.size):\n",
    "    \n",
    "    ite(theta(base[i]), alpha(base[i]), jacobian(base[i]), hessian=hessian(base[i]))\n",
    "    \n",
    "    if i==0:\n",
    "        samples = ite.samples\n",
    "        logweights = ite.logweights\n",
    "    else:\n",
    "        samples = np.concatenate([samples, ite.samples])\n",
    "        logweights = np.concatenate([logweights, ite.logweights])\n",
    "\n",
    "weights = np.exp(logweights)"
   ]
  },
  {
   "cell_type": "code",
   "execution_count": 5,
   "metadata": {
    "collapsed": true
   },
   "outputs": [],
   "source": [
    "# set up plotting\n",
    "\n",
    "def p(x):\n",
    "    return np.exp(-1/2*(alpha(x)-betastar)@(alpha(x)-betastar))\n",
    "\n",
    "xvals = np.arange(bounds[0,0], bounds[0,1], 1e-3)\n",
    "\n",
    "Z = np.sum(np.array(list(map(p, xvals))))*1e-3\n",
    "\n",
    "pdf = np.array(list(map(p, xvals)))/Z"
   ]
  },
  {
   "cell_type": "code",
   "execution_count": 6,
   "metadata": {},
   "outputs": [
    {
     "data": {
      "image/png": "[encoded data removed]",
      "text/plain": [
       "<matplotlib.figure.Figure at 0x7f735a0382e8>"
      ]
     },
     "metadata": {},
     "output_type": "display_data"
    }
   ],
   "source": [
    "# compare base chain to target distribution\n",
    "\n",
    "plt.hist(base, 20, density=True)\n",
    "plt.plot(xvals, pdf)\n",
    "plt.show()"
   ]
  },
  {
   "cell_type": "code",
   "execution_count": 7,
   "metadata": {},
   "outputs": [
    {
     "data": {
      "image/png": "[encoded data removed]",
      "text/plain": [
       "<matplotlib.figure.Figure at 0x7f7358b77278>"
      ]
     },
     "metadata": {},
     "output_type": "display_data"
    }
   ],
   "source": [
    "# compare generated samples to target distribution\n",
    "\n",
    "plt.hist(samples, 100, density=True, weights=weights)\n",
    "plt.plot(xvals, pdf)\n",
    "plt.show()"
   ]
  }
 ],
 "metadata": {
  "kernelspec": {
   "display_name": "Python 3",
   "language": "python",
   "name": "python3"
  },
  "language_info": {
   "codemirror_mode": {
    "name": "ipython",
    "version": 3
   },
   "file_extension": ".py",
   "mimetype": "text/x-python",
   "name": "python",
   "nbconvert_exporter": "python",
   "pygments_lexer": "ipython3",
   "version": "3.6.3"
  }
 },
 "nbformat": 4,
 "nbformat_minor": 2
}
